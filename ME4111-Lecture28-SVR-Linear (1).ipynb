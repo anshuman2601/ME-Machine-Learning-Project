{
 "cells": [
  {
   "cell_type": "markdown",
   "metadata": {},
   "source": [
    "# ME:4111 Scientific Computing and Machine Learning \n",
    "# Lecture 28: SVR and Unsupervised Learning - SVR (Linear regression)\n",
    "# by Prof. Shaoping Xiao"
   ]
  },
  {
   "cell_type": "code",
   "execution_count": 2,
   "metadata": {},
   "outputs": [],
   "source": [
    "import matplotlib.pyplot as plt\n",
    "import numpy as np\n",
    "import pandas as pd\n"
   ]
  },
  {
   "cell_type": "code",
   "execution_count": 3,
   "metadata": {
    "scrolled": true
   },
   "outputs": [
    {
     "data": {
      "text/html": [
       "<div>\n",
       "<style scoped>\n",
       "    .dataframe tbody tr th:only-of-type {\n",
       "        vertical-align: middle;\n",
       "    }\n",
       "\n",
       "    .dataframe tbody tr th {\n",
       "        vertical-align: top;\n",
       "    }\n",
       "\n",
       "    .dataframe thead th {\n",
       "        text-align: right;\n",
       "    }\n",
       "</style>\n",
       "<table border=\"1\" class=\"dataframe\">\n",
       "  <thead>\n",
       "    <tr style=\"text-align: right;\">\n",
       "      <th></th>\n",
       "      <th>HourCoded</th>\n",
       "      <th>Immobilizedbus</th>\n",
       "      <th>BrokenTruck</th>\n",
       "      <th>Vehicleexcess</th>\n",
       "      <th>Vict</th>\n",
       "      <th>Runningover</th>\n",
       "      <th>Firevehicles</th>\n",
       "      <th>Occurrenceinvolvingfreight</th>\n",
       "      <th>Incidentinvolvingdangerousfreight</th>\n",
       "      <th>Lackofelectricity</th>\n",
       "      <th>Fire</th>\n",
       "      <th>Pointofflooding</th>\n",
       "      <th>Manifestations</th>\n",
       "      <th>Defectinthenetworkoftrolleybuses</th>\n",
       "      <th>Treeontheroad</th>\n",
       "      <th>Semaphoreoff</th>\n",
       "      <th>IntermittentSemaphore</th>\n",
       "      <th>Slownessintraffic</th>\n",
       "    </tr>\n",
       "  </thead>\n",
       "  <tbody>\n",
       "    <tr>\n",
       "      <th>0</th>\n",
       "      <td>1</td>\n",
       "      <td>0</td>\n",
       "      <td>0</td>\n",
       "      <td>0</td>\n",
       "      <td>0</td>\n",
       "      <td>0</td>\n",
       "      <td>0</td>\n",
       "      <td>0</td>\n",
       "      <td>0</td>\n",
       "      <td>0</td>\n",
       "      <td>0</td>\n",
       "      <td>0</td>\n",
       "      <td>0</td>\n",
       "      <td>0</td>\n",
       "      <td>0</td>\n",
       "      <td>0</td>\n",
       "      <td>0</td>\n",
       "      <td>#NULL!</td>\n",
       "    </tr>\n",
       "    <tr>\n",
       "      <th>1</th>\n",
       "      <td>2</td>\n",
       "      <td>0</td>\n",
       "      <td>0</td>\n",
       "      <td>0</td>\n",
       "      <td>0</td>\n",
       "      <td>0</td>\n",
       "      <td>0</td>\n",
       "      <td>0</td>\n",
       "      <td>0</td>\n",
       "      <td>0</td>\n",
       "      <td>0</td>\n",
       "      <td>0</td>\n",
       "      <td>0</td>\n",
       "      <td>0</td>\n",
       "      <td>0</td>\n",
       "      <td>0</td>\n",
       "      <td>0</td>\n",
       "      <td>#NULL!</td>\n",
       "    </tr>\n",
       "    <tr>\n",
       "      <th>2</th>\n",
       "      <td>3</td>\n",
       "      <td>0</td>\n",
       "      <td>0</td>\n",
       "      <td>0</td>\n",
       "      <td>0</td>\n",
       "      <td>0</td>\n",
       "      <td>0</td>\n",
       "      <td>0</td>\n",
       "      <td>0</td>\n",
       "      <td>0</td>\n",
       "      <td>0</td>\n",
       "      <td>0</td>\n",
       "      <td>0</td>\n",
       "      <td>0</td>\n",
       "      <td>0</td>\n",
       "      <td>0</td>\n",
       "      <td>0</td>\n",
       "      <td>#NULL!</td>\n",
       "    </tr>\n",
       "    <tr>\n",
       "      <th>3</th>\n",
       "      <td>4</td>\n",
       "      <td>0</td>\n",
       "      <td>0</td>\n",
       "      <td>0</td>\n",
       "      <td>0</td>\n",
       "      <td>0</td>\n",
       "      <td>0</td>\n",
       "      <td>0</td>\n",
       "      <td>0</td>\n",
       "      <td>0</td>\n",
       "      <td>0</td>\n",
       "      <td>0</td>\n",
       "      <td>0</td>\n",
       "      <td>0</td>\n",
       "      <td>0</td>\n",
       "      <td>0</td>\n",
       "      <td>0</td>\n",
       "      <td>#NULL!</td>\n",
       "    </tr>\n",
       "    <tr>\n",
       "      <th>4</th>\n",
       "      <td>5</td>\n",
       "      <td>0</td>\n",
       "      <td>0</td>\n",
       "      <td>0</td>\n",
       "      <td>0</td>\n",
       "      <td>0</td>\n",
       "      <td>0</td>\n",
       "      <td>0</td>\n",
       "      <td>0</td>\n",
       "      <td>0</td>\n",
       "      <td>0</td>\n",
       "      <td>0</td>\n",
       "      <td>0</td>\n",
       "      <td>0</td>\n",
       "      <td>0</td>\n",
       "      <td>0</td>\n",
       "      <td>0</td>\n",
       "      <td>#NULL!</td>\n",
       "    </tr>\n",
       "  </tbody>\n",
       "</table>\n",
       "</div>"
      ],
      "text/plain": [
       "   HourCoded  Immobilizedbus  BrokenTruck  Vehicleexcess  Vict  Runningover  \\\n",
       "0          1               0            0              0     0            0   \n",
       "1          2               0            0              0     0            0   \n",
       "2          3               0            0              0     0            0   \n",
       "3          4               0            0              0     0            0   \n",
       "4          5               0            0              0     0            0   \n",
       "\n",
       "   Firevehicles  Occurrenceinvolvingfreight  \\\n",
       "0             0                           0   \n",
       "1             0                           0   \n",
       "2             0                           0   \n",
       "3             0                           0   \n",
       "4             0                           0   \n",
       "\n",
       "   Incidentinvolvingdangerousfreight  Lackofelectricity  Fire  \\\n",
       "0                                  0                  0     0   \n",
       "1                                  0                  0     0   \n",
       "2                                  0                  0     0   \n",
       "3                                  0                  0     0   \n",
       "4                                  0                  0     0   \n",
       "\n",
       "   Pointofflooding  Manifestations  Defectinthenetworkoftrolleybuses  \\\n",
       "0                0               0                                 0   \n",
       "1                0               0                                 0   \n",
       "2                0               0                                 0   \n",
       "3                0               0                                 0   \n",
       "4                0               0                                 0   \n",
       "\n",
       "   Treeontheroad  Semaphoreoff  IntermittentSemaphore Slownessintraffic  \n",
       "0              0             0                      0            #NULL!  \n",
       "1              0             0                      0            #NULL!  \n",
       "2              0             0                      0            #NULL!  \n",
       "3              0             0                      0            #NULL!  \n",
       "4              0             0                      0            #NULL!  "
      ]
     },
     "execution_count": 3,
     "metadata": {},
     "output_type": "execute_result"
    }
   ],
   "source": [
    "Accident= pd.read_csv('traffic.csv')\n",
    "Accident.head()"
   ]
  },
  {
   "cell_type": "code",
   "execution_count": 9,
   "metadata": {},
   "outputs": [
    {
     "name": "stdout",
     "output_type": "stream",
     "text": [
      "135\n"
     ]
    }
   ],
   "source": [
    "#print(Accident['HourCoded'])\n",
    "y = Accident['Vict'].values\n",
    "print(len(Accident))\n",
    "\n",
    "X = Accident['HourCoded'].values"
   ]
  },
  {
   "cell_type": "markdown",
   "metadata": {
    "collapsed": true
   },
   "source": [
    "### Generate Data Points"
   ]
  },
  {
   "cell_type": "code",
   "execution_count": 10,
   "metadata": {},
   "outputs": [
    {
     "data": {
      "image/png": "[encoded data removed]",
      "text/plain": [
       "<Figure size 432x288 with 1 Axes>"
      ]
     },
     "metadata": {
      "needs_background": "light"
     },
     "output_type": "display_data"
    }
   ],
   "source": [
    "\n",
    "plt.figure()\n",
    "plt.title('Randomly generate a dataset with 100 data points')\n",
    "plt.scatter(X, y, marker= 'o', c='red', s=50)\n",
    "\n",
    "plt.show()"
   ]
  },
  {
   "cell_type": "markdown",
   "metadata": {},
   "source": [
    "### training/test split (test size is 25%)"
   ]
  },
  {
   "cell_type": "code",
   "execution_count": 6,
   "metadata": {},
   "outputs": [],
   "source": [
    "from sklearn.model_selection import train_test_split\n",
    "XR_train, XR_test, yR_train, yR_test = train_test_split(X, y, random_state = 0)"
   ]
  },
  {
   "cell_type": "markdown",
   "metadata": {},
   "source": [
    "### Adding Polynomial Features"
   ]
  },
  {
   "cell_type": "code",
   "execution_count": 7,
   "metadata": {},
   "outputs": [],
   "source": [
    "from sklearn.preprocessing import PolynomialFeatures\n",
    "ndegree = 100\n",
    "poly = PolynomialFeatures(degree = ndegree)\n",
    "X_poly = poly.fir_transform(X)\n"
   ]
  },
  {
   "cell_type": "markdown",
   "metadata": {},
   "source": [
    "### compare to the least-square linearRegression"
   ]
  },
  {
   "cell_type": "code",
   "execution_count": 8,
   "metadata": {},
   "outputs": [
    {
     "data": {
      "image/png": "[encoded data removed]",
      "text/plain": [
       "<Figure size 432x288 with 1 Axes>"
      ]
     },
     "metadata": {
      "needs_background": "light"
     },
     "output_type": "display_data"
    }
   ],
   "source": [
    "from sklearn.linear_model import LinearRegression\n",
    "linreg = LinearRegression().fit(XR_train, yR_train)\n",
    "yL_pred = linreg.predict(XR_train)\n",
    "\n",
    "train_score=LregSVR.score(XR_train, yR_train)\n",
    "test_score=LregSVR.score(XR_test, yR_test)\n",
    "Ltrain_score=linreg.score(XR_train, yR_train)\n",
    "Ltest_score=linreg.score(XR_test, yR_test)\n",
    "\n",
    "\n",
    "plt.title('SVR (C={}) y = ({:.3f})x +{:.3f}\\n trainscore = {:.3f}, testscore = {:.3f}'\n",
    "          .format(Lreg_C, LregSVR.coef_[0,0], LregSVR.intercept_[0], train_score, test_score), size=15)\n",
    "plt.scatter(XR_train, yR_train, marker= 'o', c='red', s=50, label='training data')\n",
    "plt.plot(XR_train, yR_pred, 'b-', label='SVR linear kernel')\n",
    "plt.plot(XR_train, yL_pred, 'y-', label='Linear regression')\n",
    "plt.legend(loc='upper left', scatterpoints=1, numpoints=1)\n",
    "plt.xlabel('Linear regression y = ({:.3f})x +{:.3f}\\n trainscore = {:.3f}, testscore = {:.3f}'\n",
    "           .format(linreg.coef_[0], linreg.intercept_, Ltrain_score, Ltest_score), size=15)\n",
    "plt.show()"
   ]
  },
  {
   "cell_type": "code",
   "execution_count": null,
   "metadata": {},
   "outputs": [],
   "source": []
  }
 ],
 "metadata": {
  "kernelspec": {
   "display_name": "Python 3",
   "language": "python",
   "name": "python3"
  },
  "language_info": {
   "codemirror_mode": {
    "name": "ipython",
    "version": 3
   },
   "file_extension": ".py",
   "mimetype": "text/x-python",
   "name": "python",
   "nbconvert_exporter": "python",
   "pygments_lexer": "ipython3",
   "version": "3.7.1"
  }
 },
 "nbformat": 4,
 "nbformat_minor": 2
}
