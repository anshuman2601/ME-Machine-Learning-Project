{
 "cells": [
  {
   "cell_type": "code",
   "execution_count": 2,
   "metadata": {},
   "outputs": [],
   "source": [
    "import matplotlib.pyplot as plt\n",
    "import pandas as pd\n",
    "import numpy as np"
   ]
  },
  {
   "cell_type": "code",
   "execution_count": 45,
   "metadata": {},
   "outputs": [
    {
     "name": "stdout",
     "output_type": "stream",
     "text": [
      "<class 'pandas.core.frame.DataFrame'>\n"
     ]
    }
   ],
   "source": [
    "df = pd.read_csv('Fires.csv')\n",
    "print(type(df))"
   ]
  },
  {
   "cell_type": "code",
   "execution_count": 42,
   "metadata": {},
   "outputs": [],
   "source": [
    "features = df['temp'].values\n",
    "labels = df['area'].values\n"
   ]
  },
  {
   "cell_type": "code",
   "execution_count": 30,
   "metadata": {},
   "outputs": [
    {
     "data": {
      "image/png": "[encoded data removed]",
      "text/plain": [
       "<Figure size 432x288 with 1 Axes>"
      ]
     },
     "metadata": {
      "needs_background": "light"
     },
     "output_type": "display_data"
    }
   ],
   "source": [
    "#plt.scatter(df_train['ISI'], df_train['temp'])\n",
    "plt.scatter(features,labels, s=20)\n",
    "plt.xlabel('Temp')\n",
    "plt.ylabel('Area')\n",
    "plt.title('Burn area v/s temp')\n",
    "plt.show()\n",
    "\n"
   ]
  },
  {
   "cell_type": "code",
   "execution_count": 34,
   "metadata": {},
   "outputs": [],
   "source": [
    "from sklearn.model_selection import train_test_split\n",
    "\n",
    "X_train, X_test, y_train, y_test = train_test_split(features,\n",
    "                                                    labels,\n",
    "                                                    test_size=0.20,\n",
    "                                                    random_state=0)\n"
   ]
  },
  {
   "cell_type": "code",
   "execution_count": 35,
   "metadata": {},
   "outputs": [],
   "source": [
    "from sklearn.linear_model import LinearRegression\n",
    "regressor = LinearRegression()"
   ]
  },
  {
   "cell_type": "code",
   "execution_count": 39,
   "metadata": {},
   "outputs": [
    {
     "ename": "ValueError",
     "evalue": "Expected 2D array, got 1D array instead:\narray=[ 8.2 18.  14.6  8.3 11.4 22.2 24.1  8.  13.1 22.8 17.8 19.3 17.  21.3\n 26.4 22.9 15.1 16.7 15.9  9.3 18.3 19.1 21.  19.5 23.7 16.3 19.  19.4\n 30.2 22.8 25.4 11.2 20.6 17.7 21.2 18.2 21.7 11.3 17.8 14.1 23.3 18.4\n 16.6 19.6 12.9 25.9 14.7 23.  11.8 11.  20.8 21.5 20.4 20.4 17.6 27.7\n 17.8 13.8 13.9 12.3 11.5  5.5 18.8 20.8 23.1 18.6 23.  19.6 19.6 17.2\n 15.8 17.7 15.6 17.3 27.6  6.7 15.7  8.3 14.7 21.6 19.5 17.9 18.6 16.6\n 20.2 21.5 25.4 22.4 25.3 17.4 14.7 17.4 20.8 18.2 23.4 17.8 12.7 17.4\n 11.6 19.8 19.8 14.4 20.1 24.1  5.3 12.7 18.2 21.4 20.3 17.4 13.7 18.8\n 22.8 18.9 15.8 15.5 11.6 15.2 10.6 19.6 10.3 17.1 22.5 17.9 19.8 20.6\n  9.  17.2 15.9 15.4 15.4 14.  10.6 17.6 14.9 17.6 17.2 15.6 18.  21.7\n 21.9 23.3 21.2 16.6 23.8 27.4 13.2 24.2 17.4 23.7 23.2 24.8 24.6 20.1\n 29.6 16.4 28.6 18.4 20.5 19.  16.1 20.3 15.2 17.8 17.8  5.3 16.6 23.4\n 14.6 20.7 21.9 17.4 20.1 17.7 14.2 20.3  5.8 19.2 18.3 14.4 23.9 19.1\n 12.4 16.8 20.8 17.6 11.5 21.  13.3 11.5 11.7 24.2 24.6 24.3 24.6 23.5\n  5.8 21.5 13.9 22.6 21.6 12.4  8.8 20.2 15.1 22.1 22.9 20.7 19.6 23.2\n 18.4  5.1 20.1 11.  17.  17.  16.9 12.4 19.4 15.2 16.2 18.6 11.  13.4\n 15.4 22.9 16.1 20.1 28.3 16.4 26.4 27.8 18.7 24.3 17.7 19.6 18.2 18.8\n 25.1 13.4 15.2 16.7 15.4 21.9 22.4 26.8 25.7 20.7 28.7 21.7 26.8 24.\n 22.1 21.4 18.9 22.3 23.9 21.4 20.6 23.7 28.3 11.2 21.4 19.3 21.8 22.1\n 19.4 23.7 21.  19.1 21.8 20.1 20.2  4.8  5.1  5.1  4.6  4.6  4.6  4.6\n  2.2  5.1  4.2  8.8  7.5 23.4 12.6 22.1 24.2 24.3 18.7 25.3 22.9 26.9\n 17.1 22.2 14.3 15.4 19.6 10.6 20.7 19.1 19.2 19.2 11.3 19.  17.1 23.8\n 16.  24.9 25.3 24.8 12.2 24.3 19.7 18.5 18.6 19.2 21.6 21.6 18.9 16.8\n 16.8 12.9 13.7 24.2 24.1 21.2 19.7 23.5 24.2 21.5 17.1 18.1 18.   9.8\n 19.3 23.  22.7 20.4 19.3 15.7 20.6 15.9 12.2 16.8 21.3 10.1 17.4 12.8\n 10.1 15.4 20.6 19.8 18.7 20.8 20.8 15.9 19.7 21.1 18.4 17.3 15.2 15.9\n 21.1 19.6 15.9 16.4 16.8 13.8 13.8 14.2 10.4 20.3 10.3 15.4 21.1 21.9\n  8.7  5.2 19.3 16.2 28.2 20.5 21.3 20.9 20.6 11.6 23.3 23.3  7.5 20.7\n 21.9 15.2  5.3 10.1 20.4 24.3 25.9 28.  28.  22.8 25.  21.3 21.8 27.9\n 17.  14.2 19.9 23.4 14.7  8.2 22.8 26.4 24.1 27.5 26.3 13.8 24.9 24.8\n 26.2 30.8 29.3 22.3 26.9 20.4 20.4 27.9 26.2 24.6 19.4 23.3 23.9 20.9\n 22.2 23.8 26.8 14.2 23.6 19.1 16.2 25.5 10.9 14.8 16.2 17.3 19.1  8.9\n 10.5 19.3 23.4 11.8 17.7 17.4 16.8 17.9 16.6 19.9 18.9 15.5 18.9 18.9\n 14.5  4.6  5.1  4.6 10.2 11.2 13.3 13.7 17.6 18.  14.3 24.5 26.4 22.7\n 27.2 26.1 18.2 22.6 30.2 30.2 23.4 31.  33.1 30.6 24.1 26.4 19.4 20.6\n 28.7 32.4 32.4 27.5 30.8 23.9 32.6 32.3 33.3 27.3 21.6 21.6 20.7 29.2\n 28.9 26.7 18.5 25.9 25.9 21.1 18.2 27.8 27.8 21.9 21.2 25.6 11.8].\nReshape your data either using array.reshape(-1, 1) if your data has a single feature or array.reshape(1, -1) if it contains a single sample.",
     "output_type": "error",
     "traceback": [
      "\u001b[1;31m---------------------------------------------------------------------------\u001b[0m",
      "\u001b[1;31mValueError\u001b[0m                                Traceback (most recent call last)",
      "\u001b[1;32m<ipython-input-39-2afa962e13d9>\u001b[0m in \u001b[0;36m<module>\u001b[1;34m\u001b[0m\n\u001b[0;32m      3\u001b[0m \u001b[0mpoly_reg\u001b[0m \u001b[1;33m=\u001b[0m \u001b[0mPolynomialFeatures\u001b[0m\u001b[1;33m(\u001b[0m\u001b[0mdegree\u001b[0m\u001b[1;33m=\u001b[0m\u001b[1;36m100\u001b[0m\u001b[1;33m)\u001b[0m\u001b[1;33m\u001b[0m\u001b[1;33m\u001b[0m\u001b[0m\n\u001b[0;32m      4\u001b[0m \u001b[1;33m\u001b[0m\u001b[0m\n\u001b[1;32m----> 5\u001b[1;33m \u001b[0mx_poly\u001b[0m \u001b[1;33m=\u001b[0m \u001b[0mpoly_reg\u001b[0m\u001b[1;33m.\u001b[0m\u001b[0mfit_transform\u001b[0m\u001b[1;33m(\u001b[0m\u001b[0mfeatures\u001b[0m\u001b[1;33m)\u001b[0m\u001b[1;33m\u001b[0m\u001b[1;33m\u001b[0m\u001b[0m\n\u001b[0m\u001b[0;32m      6\u001b[0m \u001b[0mregressor\u001b[0m\u001b[1;33m.\u001b[0m\u001b[0mfit\u001b[0m\u001b[1;33m(\u001b[0m\u001b[0mx_poly\u001b[0m\u001b[1;33m,\u001b[0m\u001b[0mlabels\u001b[0m\u001b[1;33m)\u001b[0m\u001b[1;33m\u001b[0m\u001b[1;33m\u001b[0m\u001b[0m\n",
      "\u001b[1;32m~\\Anaconda3\\lib\\site-packages\\sklearn\\base.py\u001b[0m in \u001b[0;36mfit_transform\u001b[1;34m(self, X, y, **fit_params)\u001b[0m\n\u001b[0;32m    462\u001b[0m         \u001b[1;32mif\u001b[0m \u001b[0my\u001b[0m \u001b[1;32mis\u001b[0m \u001b[1;32mNone\u001b[0m\u001b[1;33m:\u001b[0m\u001b[1;33m\u001b[0m\u001b[1;33m\u001b[0m\u001b[0m\n\u001b[0;32m    463\u001b[0m             \u001b[1;31m# fit method of arity 1 (unsupervised transformation)\u001b[0m\u001b[1;33m\u001b[0m\u001b[1;33m\u001b[0m\u001b[1;33m\u001b[0m\u001b[0m\n\u001b[1;32m--> 464\u001b[1;33m             \u001b[1;32mreturn\u001b[0m \u001b[0mself\u001b[0m\u001b[1;33m.\u001b[0m\u001b[0mfit\u001b[0m\u001b[1;33m(\u001b[0m\u001b[0mX\u001b[0m\u001b[1;33m,\u001b[0m \u001b[1;33m**\u001b[0m\u001b[0mfit_params\u001b[0m\u001b[1;33m)\u001b[0m\u001b[1;33m.\u001b[0m\u001b[0mtransform\u001b[0m\u001b[1;33m(\u001b[0m\u001b[0mX\u001b[0m\u001b[1;33m)\u001b[0m\u001b[1;33m\u001b[0m\u001b[1;33m\u001b[0m\u001b[0m\n\u001b[0m\u001b[0;32m    465\u001b[0m         \u001b[1;32melse\u001b[0m\u001b[1;33m:\u001b[0m\u001b[1;33m\u001b[0m\u001b[1;33m\u001b[0m\u001b[0m\n\u001b[0;32m    466\u001b[0m             \u001b[1;31m# fit method of arity 2 (supervised transformation)\u001b[0m\u001b[1;33m\u001b[0m\u001b[1;33m\u001b[0m\u001b[1;33m\u001b[0m\u001b[0m\n",
      "\u001b[1;32m~\\Anaconda3\\lib\\site-packages\\sklearn\\preprocessing\\data.py\u001b[0m in \u001b[0;36mfit\u001b[1;34m(self, X, y)\u001b[0m\n\u001b[0;32m   1458\u001b[0m         \u001b[0mself\u001b[0m \u001b[1;33m:\u001b[0m \u001b[0minstance\u001b[0m\u001b[1;33m\u001b[0m\u001b[1;33m\u001b[0m\u001b[0m\n\u001b[0;32m   1459\u001b[0m         \"\"\"\n\u001b[1;32m-> 1460\u001b[1;33m         \u001b[0mn_samples\u001b[0m\u001b[1;33m,\u001b[0m \u001b[0mn_features\u001b[0m \u001b[1;33m=\u001b[0m \u001b[0mcheck_array\u001b[0m\u001b[1;33m(\u001b[0m\u001b[0mX\u001b[0m\u001b[1;33m,\u001b[0m \u001b[0maccept_sparse\u001b[0m\u001b[1;33m=\u001b[0m\u001b[1;32mTrue\u001b[0m\u001b[1;33m)\u001b[0m\u001b[1;33m.\u001b[0m\u001b[0mshape\u001b[0m\u001b[1;33m\u001b[0m\u001b[1;33m\u001b[0m\u001b[0m\n\u001b[0m\u001b[0;32m   1461\u001b[0m         combinations = self._combinations(n_features, self.degree,\n\u001b[0;32m   1462\u001b[0m                                           \u001b[0mself\u001b[0m\u001b[1;33m.\u001b[0m\u001b[0minteraction_only\u001b[0m\u001b[1;33m,\u001b[0m\u001b[1;33m\u001b[0m\u001b[1;33m\u001b[0m\u001b[0m\n",
      "\u001b[1;32m~\\Anaconda3\\lib\\site-packages\\sklearn\\utils\\validation.py\u001b[0m in \u001b[0;36mcheck_array\u001b[1;34m(array, accept_sparse, accept_large_sparse, dtype, order, copy, force_all_finite, ensure_2d, allow_nd, ensure_min_samples, ensure_min_features, warn_on_dtype, estimator)\u001b[0m\n\u001b[0;32m    550\u001b[0m                     \u001b[1;34m\"Reshape your data either using array.reshape(-1, 1) if \"\u001b[0m\u001b[1;33m\u001b[0m\u001b[1;33m\u001b[0m\u001b[0m\n\u001b[0;32m    551\u001b[0m                     \u001b[1;34m\"your data has a single feature or array.reshape(1, -1) \"\u001b[0m\u001b[1;33m\u001b[0m\u001b[1;33m\u001b[0m\u001b[0m\n\u001b[1;32m--> 552\u001b[1;33m                     \"if it contains a single sample.\".format(array))\n\u001b[0m\u001b[0;32m    553\u001b[0m \u001b[1;33m\u001b[0m\u001b[0m\n\u001b[0;32m    554\u001b[0m         \u001b[1;31m# in the future np.flexible dtypes will be handled like object dtypes\u001b[0m\u001b[1;33m\u001b[0m\u001b[1;33m\u001b[0m\u001b[1;33m\u001b[0m\u001b[0m\n",
      "\u001b[1;31mValueError\u001b[0m: Expected 2D array, got 1D array instead:\narray=[ 8.2 18.  14.6  8.3 11.4 22.2 24.1  8.  13.1 22.8 17.8 19.3 17.  21.3\n 26.4 22.9 15.1 16.7 15.9  9.3 18.3 19.1 21.  19.5 23.7 16.3 19.  19.4\n 30.2 22.8 25.4 11.2 20.6 17.7 21.2 18.2 21.7 11.3 17.8 14.1 23.3 18.4\n 16.6 19.6 12.9 25.9 14.7 23.  11.8 11.  20.8 21.5 20.4 20.4 17.6 27.7\n 17.8 13.8 13.9 12.3 11.5  5.5 18.8 20.8 23.1 18.6 23.  19.6 19.6 17.2\n 15.8 17.7 15.6 17.3 27.6  6.7 15.7  8.3 14.7 21.6 19.5 17.9 18.6 16.6\n 20.2 21.5 25.4 22.4 25.3 17.4 14.7 17.4 20.8 18.2 23.4 17.8 12.7 17.4\n 11.6 19.8 19.8 14.4 20.1 24.1  5.3 12.7 18.2 21.4 20.3 17.4 13.7 18.8\n 22.8 18.9 15.8 15.5 11.6 15.2 10.6 19.6 10.3 17.1 22.5 17.9 19.8 20.6\n  9.  17.2 15.9 15.4 15.4 14.  10.6 17.6 14.9 17.6 17.2 15.6 18.  21.7\n 21.9 23.3 21.2 16.6 23.8 27.4 13.2 24.2 17.4 23.7 23.2 24.8 24.6 20.1\n 29.6 16.4 28.6 18.4 20.5 19.  16.1 20.3 15.2 17.8 17.8  5.3 16.6 23.4\n 14.6 20.7 21.9 17.4 20.1 17.7 14.2 20.3  5.8 19.2 18.3 14.4 23.9 19.1\n 12.4 16.8 20.8 17.6 11.5 21.  13.3 11.5 11.7 24.2 24.6 24.3 24.6 23.5\n  5.8 21.5 13.9 22.6 21.6 12.4  8.8 20.2 15.1 22.1 22.9 20.7 19.6 23.2\n 18.4  5.1 20.1 11.  17.  17.  16.9 12.4 19.4 15.2 16.2 18.6 11.  13.4\n 15.4 22.9 16.1 20.1 28.3 16.4 26.4 27.8 18.7 24.3 17.7 19.6 18.2 18.8\n 25.1 13.4 15.2 16.7 15.4 21.9 22.4 26.8 25.7 20.7 28.7 21.7 26.8 24.\n 22.1 21.4 18.9 22.3 23.9 21.4 20.6 23.7 28.3 11.2 21.4 19.3 21.8 22.1\n 19.4 23.7 21.  19.1 21.8 20.1 20.2  4.8  5.1  5.1  4.6  4.6  4.6  4.6\n  2.2  5.1  4.2  8.8  7.5 23.4 12.6 22.1 24.2 24.3 18.7 25.3 22.9 26.9\n 17.1 22.2 14.3 15.4 19.6 10.6 20.7 19.1 19.2 19.2 11.3 19.  17.1 23.8\n 16.  24.9 25.3 24.8 12.2 24.3 19.7 18.5 18.6 19.2 21.6 21.6 18.9 16.8\n 16.8 12.9 13.7 24.2 24.1 21.2 19.7 23.5 24.2 21.5 17.1 18.1 18.   9.8\n 19.3 23.  22.7 20.4 19.3 15.7 20.6 15.9 12.2 16.8 21.3 10.1 17.4 12.8\n 10.1 15.4 20.6 19.8 18.7 20.8 20.8 15.9 19.7 21.1 18.4 17.3 15.2 15.9\n 21.1 19.6 15.9 16.4 16.8 13.8 13.8 14.2 10.4 20.3 10.3 15.4 21.1 21.9\n  8.7  5.2 19.3 16.2 28.2 20.5 21.3 20.9 20.6 11.6 23.3 23.3  7.5 20.7\n 21.9 15.2  5.3 10.1 20.4 24.3 25.9 28.  28.  22.8 25.  21.3 21.8 27.9\n 17.  14.2 19.9 23.4 14.7  8.2 22.8 26.4 24.1 27.5 26.3 13.8 24.9 24.8\n 26.2 30.8 29.3 22.3 26.9 20.4 20.4 27.9 26.2 24.6 19.4 23.3 23.9 20.9\n 22.2 23.8 26.8 14.2 23.6 19.1 16.2 25.5 10.9 14.8 16.2 17.3 19.1  8.9\n 10.5 19.3 23.4 11.8 17.7 17.4 16.8 17.9 16.6 19.9 18.9 15.5 18.9 18.9\n 14.5  4.6  5.1  4.6 10.2 11.2 13.3 13.7 17.6 18.  14.3 24.5 26.4 22.7\n 27.2 26.1 18.2 22.6 30.2 30.2 23.4 31.  33.1 30.6 24.1 26.4 19.4 20.6\n 28.7 32.4 32.4 27.5 30.8 23.9 32.6 32.3 33.3 27.3 21.6 21.6 20.7 29.2\n 28.9 26.7 18.5 25.9 25.9 21.1 18.2 27.8 27.8 21.9 21.2 25.6 11.8].\nReshape your data either using array.reshape(-1, 1) if your data has a single feature or array.reshape(1, -1) if it contains a single sample."
     ]
    }
   ],
   "source": [
    "from sklearn.preprocessing import PolynomialFeatures\n",
    "\n",
    "poly_reg = PolynomialFeatures(degree=100)\n",
    "\n",
    "x_poly = poly_reg.fit_transform(features)\n",
    "regressor.fit(x_poly,labels)\n"
   ]
  },
  {
   "cell_type": "code",
   "execution_count": 40,
   "metadata": {},
   "outputs": [
    {
     "ename": "ValueError",
     "evalue": "Expected 2D array, got 1D array instead:\narray=[11.  23.8 15.9 26.4 17.4 22.9 15.2 20.6 16.2 12.7 21.7  4.6 26.4 10.6\n 10.3 14.7 19.3 27.5  8.8 26.1 11.3 23.5  8.2 16.8 21.9 18.4 25.9 21.6\n 24.3 19.1 14.7 24.6 15.9 30.8 28.2 19.6 14.9 16.4 25.1 31.  21.9 20.1\n 17.1 20.3 24.9 19.  29.3 18.9 18.4 20.6 14.4 17.1 10.6 18.9 12.2 18.\n  6.7 17.  15.4 16.2 14.7 23.8 28.  22.9 15.4 18.2 21.4 24.8 15.7 19.4\n 24.6 16.  17.8 26.9 21.9  8.7 16.2 18.6 18.7 10.1 19.3 20.7 16.7  4.2\n 17.4 21.2 18.2 24.2 24.9 15.6 33.3 24.3 15.2 18.6 14.8 21.6 14.2 17.6\n 15.4 29.6 11.  19.8 20.1 26.8].\nReshape your data either using array.reshape(-1, 1) if your data has a single feature or array.reshape(1, -1) if it contains a single sample.",
     "output_type": "error",
     "traceback": [
      "\u001b[1;31m---------------------------------------------------------------------------\u001b[0m",
      "\u001b[1;31mValueError\u001b[0m                                Traceback (most recent call last)",
      "\u001b[1;32m<ipython-input-40-5abec8a69916>\u001b[0m in \u001b[0;36m<module>\u001b[1;34m\u001b[0m\n\u001b[1;32m----> 1\u001b[1;33m \u001b[0my_pred\u001b[0m \u001b[1;33m=\u001b[0m \u001b[0mregressor\u001b[0m\u001b[1;33m.\u001b[0m\u001b[0mpredict\u001b[0m\u001b[1;33m(\u001b[0m\u001b[0mpoly_reg\u001b[0m\u001b[1;33m.\u001b[0m\u001b[0mfit_transform\u001b[0m\u001b[1;33m(\u001b[0m\u001b[0mX_test\u001b[0m\u001b[1;33m)\u001b[0m\u001b[1;33m)\u001b[0m\u001b[1;33m\u001b[0m\u001b[1;33m\u001b[0m\u001b[0m\n\u001b[0m",
      "\u001b[1;32m~\\Anaconda3\\lib\\site-packages\\sklearn\\base.py\u001b[0m in \u001b[0;36mfit_transform\u001b[1;34m(self, X, y, **fit_params)\u001b[0m\n\u001b[0;32m    462\u001b[0m         \u001b[1;32mif\u001b[0m \u001b[0my\u001b[0m \u001b[1;32mis\u001b[0m \u001b[1;32mNone\u001b[0m\u001b[1;33m:\u001b[0m\u001b[1;33m\u001b[0m\u001b[1;33m\u001b[0m\u001b[0m\n\u001b[0;32m    463\u001b[0m             \u001b[1;31m# fit method of arity 1 (unsupervised transformation)\u001b[0m\u001b[1;33m\u001b[0m\u001b[1;33m\u001b[0m\u001b[1;33m\u001b[0m\u001b[0m\n\u001b[1;32m--> 464\u001b[1;33m             \u001b[1;32mreturn\u001b[0m \u001b[0mself\u001b[0m\u001b[1;33m.\u001b[0m\u001b[0mfit\u001b[0m\u001b[1;33m(\u001b[0m\u001b[0mX\u001b[0m\u001b[1;33m,\u001b[0m \u001b[1;33m**\u001b[0m\u001b[0mfit_params\u001b[0m\u001b[1;33m)\u001b[0m\u001b[1;33m.\u001b[0m\u001b[0mtransform\u001b[0m\u001b[1;33m(\u001b[0m\u001b[0mX\u001b[0m\u001b[1;33m)\u001b[0m\u001b[1;33m\u001b[0m\u001b[1;33m\u001b[0m\u001b[0m\n\u001b[0m\u001b[0;32m    465\u001b[0m         \u001b[1;32melse\u001b[0m\u001b[1;33m:\u001b[0m\u001b[1;33m\u001b[0m\u001b[1;33m\u001b[0m\u001b[0m\n\u001b[0;32m    466\u001b[0m             \u001b[1;31m# fit method of arity 2 (supervised transformation)\u001b[0m\u001b[1;33m\u001b[0m\u001b[1;33m\u001b[0m\u001b[1;33m\u001b[0m\u001b[0m\n",
      "\u001b[1;32m~\\Anaconda3\\lib\\site-packages\\sklearn\\preprocessing\\data.py\u001b[0m in \u001b[0;36mfit\u001b[1;34m(self, X, y)\u001b[0m\n\u001b[0;32m   1458\u001b[0m         \u001b[0mself\u001b[0m \u001b[1;33m:\u001b[0m \u001b[0minstance\u001b[0m\u001b[1;33m\u001b[0m\u001b[1;33m\u001b[0m\u001b[0m\n\u001b[0;32m   1459\u001b[0m         \"\"\"\n\u001b[1;32m-> 1460\u001b[1;33m         \u001b[0mn_samples\u001b[0m\u001b[1;33m,\u001b[0m \u001b[0mn_features\u001b[0m \u001b[1;33m=\u001b[0m \u001b[0mcheck_array\u001b[0m\u001b[1;33m(\u001b[0m\u001b[0mX\u001b[0m\u001b[1;33m,\u001b[0m \u001b[0maccept_sparse\u001b[0m\u001b[1;33m=\u001b[0m\u001b[1;32mTrue\u001b[0m\u001b[1;33m)\u001b[0m\u001b[1;33m.\u001b[0m\u001b[0mshape\u001b[0m\u001b[1;33m\u001b[0m\u001b[1;33m\u001b[0m\u001b[0m\n\u001b[0m\u001b[0;32m   1461\u001b[0m         combinations = self._combinations(n_features, self.degree,\n\u001b[0;32m   1462\u001b[0m                                           \u001b[0mself\u001b[0m\u001b[1;33m.\u001b[0m\u001b[0minteraction_only\u001b[0m\u001b[1;33m,\u001b[0m\u001b[1;33m\u001b[0m\u001b[1;33m\u001b[0m\u001b[0m\n",
      "\u001b[1;32m~\\Anaconda3\\lib\\site-packages\\sklearn\\utils\\validation.py\u001b[0m in \u001b[0;36mcheck_array\u001b[1;34m(array, accept_sparse, accept_large_sparse, dtype, order, copy, force_all_finite, ensure_2d, allow_nd, ensure_min_samples, ensure_min_features, warn_on_dtype, estimator)\u001b[0m\n\u001b[0;32m    550\u001b[0m                     \u001b[1;34m\"Reshape your data either using array.reshape(-1, 1) if \"\u001b[0m\u001b[1;33m\u001b[0m\u001b[1;33m\u001b[0m\u001b[0m\n\u001b[0;32m    551\u001b[0m                     \u001b[1;34m\"your data has a single feature or array.reshape(1, -1) \"\u001b[0m\u001b[1;33m\u001b[0m\u001b[1;33m\u001b[0m\u001b[0m\n\u001b[1;32m--> 552\u001b[1;33m                     \"if it contains a single sample.\".format(array))\n\u001b[0m\u001b[0;32m    553\u001b[0m \u001b[1;33m\u001b[0m\u001b[0m\n\u001b[0;32m    554\u001b[0m         \u001b[1;31m# in the future np.flexible dtypes will be handled like object dtypes\u001b[0m\u001b[1;33m\u001b[0m\u001b[1;33m\u001b[0m\u001b[1;33m\u001b[0m\u001b[0m\n",
      "\u001b[1;31mValueError\u001b[0m: Expected 2D array, got 1D array instead:\narray=[11.  23.8 15.9 26.4 17.4 22.9 15.2 20.6 16.2 12.7 21.7  4.6 26.4 10.6\n 10.3 14.7 19.3 27.5  8.8 26.1 11.3 23.5  8.2 16.8 21.9 18.4 25.9 21.6\n 24.3 19.1 14.7 24.6 15.9 30.8 28.2 19.6 14.9 16.4 25.1 31.  21.9 20.1\n 17.1 20.3 24.9 19.  29.3 18.9 18.4 20.6 14.4 17.1 10.6 18.9 12.2 18.\n  6.7 17.  15.4 16.2 14.7 23.8 28.  22.9 15.4 18.2 21.4 24.8 15.7 19.4\n 24.6 16.  17.8 26.9 21.9  8.7 16.2 18.6 18.7 10.1 19.3 20.7 16.7  4.2\n 17.4 21.2 18.2 24.2 24.9 15.6 33.3 24.3 15.2 18.6 14.8 21.6 14.2 17.6\n 15.4 29.6 11.  19.8 20.1 26.8].\nReshape your data either using array.reshape(-1, 1) if your data has a single feature or array.reshape(1, -1) if it contains a single sample."
     ]
    }
   ],
   "source": [
    "y_pred = regressor.predict(poly_reg.fit_transform(X_test))\n"
   ]
  },
  {
   "cell_type": "code",
   "execution_count": null,
   "metadata": {},
   "outputs": [],
   "source": [
    "print('Polynomial Linear Regression Accuracy:',regressor.score(poly_reg.fit_transform(X_test),y_test))\n",
    "\n",
    "for i in range(1,6):\n",
    "    poly_reg = PolynomialFeatures(degree=i)\n",
    "    x_poly = poly_reg.fit_transform(features)\n",
    "    regressor.fit(x_poly,labels)\n",
    "    print('Degree of Equation :', i)\n",
    "    print('Coefficient :', regressor.coef_)\n",
    "    print('Intercept :', regressor.intercept_)\n",
    "    print('Accuracy Score:', regressor.score(poly_reg.fit_transform(X_test),y_test))"
   ]
  },
  {
   "cell_type": "code",
   "execution_count": null,
   "metadata": {},
   "outputs": [],
   "source": []
  },
  {
   "cell_type": "code",
   "execution_count": null,
   "metadata": {},
   "outputs": [],
   "source": []
  },
  {
   "cell_type": "code",
   "execution_count": null,
   "metadata": {},
   "outputs": [],
   "source": []
  },
  {
   "cell_type": "code",
   "execution_count": null,
   "metadata": {},
   "outputs": [],
   "source": []
  },
  {
   "cell_type": "code",
   "execution_count": null,
   "metadata": {},
   "outputs": [],
   "source": []
  },
  {
   "cell_type": "code",
   "execution_count": null,
   "metadata": {},
   "outputs": [],
   "source": []
  }
 ],
 "metadata": {
  "kernelspec": {
   "display_name": "Python 3",
   "language": "python",
   "name": "python3"
  },
  "language_info": {
   "codemirror_mode": {
    "name": "ipython",
    "version": 3
   },
   "file_extension": ".py",
   "mimetype": "text/x-python",
   "name": "python",
   "nbconvert_exporter": "python",
   "pygments_lexer": "ipython3",
   "version": "3.7.3"
  }
 },
 "nbformat": 4,
 "nbformat_minor": 2
}
